{
 "cells": [
  {
   "metadata": {},
   "cell_type": "markdown",
   "source": [
    "Alec Dayupay - 211831 - C\n",
    "\n",
    "Trisha Millena - 214031 - C\n",
    "\n",
    "Lance Santuyo - 215335 - C\n",
    "\n",
    "Tonito Sayo - 204647 - C\n",
    "\n",
    "\n",
    "We hereby attest to the truth of the following facts:\n",
    "\n",
    "We have not discussed the Python code in my program with anyone\n",
    "other than my instructor or the teaching assistants assigned to this course.\n",
    "\n",
    "We have not used Python code obtained from another student, or\n",
    "any other unauthorized source, whether modified or unmodified.\n",
    "\n",
    "If any Python code or documentation used in my program was\n",
    "obtained from another source, it has been clearly noted with citations in the\n",
    "comments of my program."
   ],
   "id": "1b3ed69a5e47132e"
  },
  {
   "cell_type": "code",
   "id": "initial_id",
   "metadata": {
    "collapsed": true,
    "ExecuteTime": {
     "end_time": "2025-04-28T06:12:23.282771Z",
     "start_time": "2025-04-28T06:12:23.209751Z"
    }
   },
   "source": [
    "import numpy as np\n",
    "import math\n",
    "import matplotlib.pyplot as plt\n",
    "import seaborn as sns\n",
    "import pandas as pd\n",
    "from sklearn.preprocessing import MultiLabelBinarizer\n",
    "from collections import Counter"
   ],
   "outputs": [],
   "execution_count": 1
  },
  {
   "metadata": {},
   "cell_type": "markdown",
   "source": [
    "___\n",
    "# Importing Data"
   ],
   "id": "eebff20b5aec75a1"
  },
  {
   "metadata": {},
   "cell_type": "markdown",
   "source": "Put the TMDB dataset in a folder called data. I renamed it to movie_dataset_full",
   "id": "85090987763e1768"
  },
  {
   "metadata": {
    "ExecuteTime": {
     "end_time": "2025-04-28T06:12:29.074231Z",
     "start_time": "2025-04-28T06:12:23.283834Z"
    }
   },
   "cell_type": "code",
   "source": [
    "df = pd.read_csv(\"data/movie_dataset_full.csv\")\n",
    "complete_df = df.copy()"
   ],
   "id": "b3b7fea6cc21d785",
   "outputs": [],
   "execution_count": 2
  },
  {
   "metadata": {
    "ExecuteTime": {
     "end_time": "2025-04-28T06:12:29.148138Z",
     "start_time": "2025-04-28T06:12:29.075235Z"
    }
   },
   "cell_type": "code",
   "source": [
    "titles_to_match = [\n",
    "    'God of War Ragnarok', 'God of War', 'OMORI', 'Big Gap', 'The Bear',\n",
    "    '2019: A Cinematic Odyssey', 'Joker 3D', 'One Copyright Strike to Rule Them All',\n",
    "    'Carlos', 'River of Fundament'\n",
    "]\n",
    "\n",
    "test = complete_df[complete_df['title'].isin(titles_to_match)]\n",
    "test = test[test['runtime'] > 300]\n",
    "test"
   ],
   "id": "b462a566eca0ec46",
   "outputs": [
    {
     "data": {
      "text/plain": [
       "             id                                  title  vote_average  \\\n",
       "12973     43434                                 Carlos         6.959   \n",
       "62291    255615                     River of Fundament         6.500   \n",
       "187353  1309787                                Big Gap        10.000   \n",
       "229449  1233925                               The Bear        10.000   \n",
       "233639  1168032  One Copyright Strike to Rule Them All        10.000   \n",
       "251260  1369012                               Joker 3D         6.000   \n",
       "257678  1305464                    God of War Ragnarok        10.000   \n",
       "257680  1305448                             God of War        10.000   \n",
       "257699  1305480                             God of War        10.000   \n",
       "259958  1280118                                  OMORI        10.000   \n",
       "296883   787838              2019: A Cinematic Odyssey        10.000   \n",
       "\n",
       "        vote_count    status release_date    revenue  runtime  adult  \\\n",
       "12973          171  Released   2010-07-07     871279      339  False   \n",
       "62291           14  Released   2014-02-12      44840      310  False   \n",
       "187353           2  Released   2016-08-31          6      980  False   \n",
       "229449           1  Released   2022-06-23   20000000      540  False   \n",
       "233639           1  Released   2023-03-31        100      409  False   \n",
       "251260           1  Released          NaN        100      420  False   \n",
       "257678           1  Released   2022-11-09  469000000      999  False   \n",
       "257680           1  Released   2018-04-20  135395253      999  False   \n",
       "257699           1  Released   2005-03-22          0      540  False   \n",
       "259958           1  Released   2020-12-25         19      990  False   \n",
       "296883           1  Released   2019-09-28     100000      480  False   \n",
       "\n",
       "                           backdrop_path  ...  \\\n",
       "12973   /bYCj7U89sVREvaxFKpnk2kbnxnF.jpg  ...   \n",
       "62291   /gZbnI9x7pszVmNc4z4SEKsFM0Iv.jpg  ...   \n",
       "187353  /znSYHaFeq4w2YWcDf0oml5LmgsO.jpg  ...   \n",
       "229449  /jpoqiH1ZGyQcUZrzYlIPsnN2GCS.jpg  ...   \n",
       "233639  /z3jrfiFNWpJ6lz4mmBxaukujZt0.jpg  ...   \n",
       "251260                               NaN  ...   \n",
       "257678  /nOV8dSwjGrgYXKZBVJm9rW829zT.jpg  ...   \n",
       "257680  /hMHywo0BDtuOeLeZWs0Ml3pjJ0R.jpg  ...   \n",
       "257699  /dnrwRHsr5NBuEST92g8Lem5G6Dy.jpg  ...   \n",
       "259958  /42yZ1pGF4a0ZtfoaR40jcD1gbu3.jpg  ...   \n",
       "296883  /17KYVwKOqlTiaYfTCntoBs0pZcp.jpg  ...   \n",
       "\n",
       "                               original_title  \\\n",
       "12973                                  Carlos   \n",
       "62291                      River of Fundament   \n",
       "187353                                Big Gap   \n",
       "229449                               The Bear   \n",
       "233639  One Copyright Strike to Rule Them All   \n",
       "251260                               Joker 3D   \n",
       "257678                    God of War Ragnarok   \n",
       "257680                             God of War   \n",
       "257699                             God of War   \n",
       "259958                                  OMORI   \n",
       "296883              2019: A Cinematic Odyssey   \n",
       "\n",
       "                                                 overview popularity  \\\n",
       "12973   The story of Venezuelan revolutionary, Ilich R...      8.009   \n",
       "62291   Visionary artist Matthew Barney returns to cin...      4.739   \n",
       "187353  big gap reptile joker taxi driver Lupe fiasco ...      1.400   \n",
       "229449  A young chef from the fine dining world return...      0.600   \n",
       "233639  An introspecitve deep dive into one mans trium...      0.600   \n",
       "251260  brought to life in an immersive 3D format. The...      0.600   \n",
       "257678  Kratos, and his now teenage son, Atreus, are f...      1.400   \n",
       "257680  Many years after defeating the Olympian gods, ...      1.400   \n",
       "257699  After 10 years of endless nightmares in servit...      0.931   \n",
       "259958  Explore a strange world full of colorful frien...      1.400   \n",
       "296883  2019: A Cinematic Odyssey is an eight hour mus...      0.600   \n",
       "\n",
       "                             poster_path  \\\n",
       "12973   /883l2CsEuNPqv8aCAOuOavxdLAy.jpg   \n",
       "62291   /sMGevssYsHJG8omlL26rPZFWgRY.jpg   \n",
       "187353  /fthyBdjT3FFWkmmGhF9K9tbOp16.jpg   \n",
       "229449  /tLnYIbkIKhNbAKzhawKqcY9dmxk.jpg   \n",
       "233639  /wnYf7evSqnp17e3STQkz9MsilCT.jpg   \n",
       "251260  /5ajHHEiNUrmq0LIqMPNP2pgIuhp.jpg   \n",
       "257678  /jiqC3ebPM3SnDJLWpVEV5OB5f0e.jpg   \n",
       "257680  /rBIoYuwsgn7dX7kJqaV6efsezBT.jpg   \n",
       "257699  /7Od86Xg4tZVyiVUga4MOnC7eTbM.jpg   \n",
       "259958   /wOO3julpsZTNBsVy0HaK3DQIQg.jpg   \n",
       "296883  /1L4kc52eYY65kQ8oLydSZwlLV0k.jpg   \n",
       "\n",
       "                                                tagline  \\\n",
       "12973                    The man who hijacked the world   \n",
       "62291                                               NaN   \n",
       "187353                             THE BIGGEST GAP EVER   \n",
       "229449                                         The Bear   \n",
       "233639                             One Man, One Mission   \n",
       "251260                               It's Jokering Time   \n",
       "257678                                 Open your heart.   \n",
       "257680                         We are not our mistakes.   \n",
       "257699        \"Tell the God of War, I am his no longer\"   \n",
       "259958                                            OMORI   \n",
       "296883  Embark on the Cinematic Adventure of a Lifetime   \n",
       "\n",
       "                                 genres  \\\n",
       "12973   Crime, Drama, Thriller, History   \n",
       "62291            Drama, Fantasy, Horror   \n",
       "187353             Science Fiction, War   \n",
       "229449                    Comedy, Drama   \n",
       "233639                      Documentary   \n",
       "251260                      Documentary   \n",
       "257678         Action, Adventure, Drama   \n",
       "257680         Adventure, Action, Drama   \n",
       "257699       Action, Adventure, Fantasy   \n",
       "259958       Horror, Animation, Fantasy   \n",
       "296883                        Adventure   \n",
       "\n",
       "                                     production_companies  \\\n",
       "12973   Films en Stock, Egoli Tossell Film, Canal+, AR...   \n",
       "62291                                                 NaN   \n",
       "187353                                                NaN   \n",
       "229449                                     FX Productions   \n",
       "233639                                                NaN   \n",
       "251260                                                NaN   \n",
       "257678  Santa Monica Studio, Sony Interactive Entertai...   \n",
       "257680  Santa Monica Studio, Sony Interactive Entertai...   \n",
       "257699   Santa Monica Studio, Sony Computer Entertainment   \n",
       "259958                                             OMOCAT   \n",
       "296883                            Sarah Conor Productions   \n",
       "\n",
       "            production_countries  \\\n",
       "12973            Germany, France   \n",
       "62291                        NaN   \n",
       "187353                       NaN   \n",
       "229449  United States of America   \n",
       "233639                       NaN   \n",
       "251260                       NaN   \n",
       "257678                       NaN   \n",
       "257680                       NaN   \n",
       "257699                       NaN   \n",
       "259958                     Japan   \n",
       "296883                       NaN   \n",
       "\n",
       "                                         spoken_languages  \\\n",
       "12973   French, German, English, Spanish, Arabic, Hung...   \n",
       "62291                                 English, Portuguese   \n",
       "187353         Albanian, Divehi, Dutch, Dzongkha, English   \n",
       "229449                                            English   \n",
       "233639                                            English   \n",
       "251260                                                NaN   \n",
       "257678                                                NaN   \n",
       "257680                                                NaN   \n",
       "257699                                                NaN   \n",
       "259958                                            English   \n",
       "296883                                            English   \n",
       "\n",
       "                                                 keywords  \n",
       "12973   gun, car bomb, miniseries, terrorism, opec, ho...  \n",
       "62291   opera, gold, loss of loved one, pregnancy, ida...  \n",
       "187353                                                NaN  \n",
       "229449                                                NaN  \n",
       "233639                                                NaN  \n",
       "251260                                              joker  \n",
       "257678                       kratos, god of war, ragnarok  \n",
       "257680                                 kratos, god of war  \n",
       "257699                                 kratos, god of war  \n",
       "259958                                                NaN  \n",
       "296883                                            musical  \n",
       "\n",
       "[11 rows x 24 columns]"
      ],
      "text/html": [
       "<div>\n",
       "<style scoped>\n",
       "    .dataframe tbody tr th:only-of-type {\n",
       "        vertical-align: middle;\n",
       "    }\n",
       "\n",
       "    .dataframe tbody tr th {\n",
       "        vertical-align: top;\n",
       "    }\n",
       "\n",
       "    .dataframe thead th {\n",
       "        text-align: right;\n",
       "    }\n",
       "</style>\n",
       "<table border=\"1\" class=\"dataframe\">\n",
       "  <thead>\n",
       "    <tr style=\"text-align: right;\">\n",
       "      <th></th>\n",
       "      <th>id</th>\n",
       "      <th>title</th>\n",
       "      <th>vote_average</th>\n",
       "      <th>vote_count</th>\n",
       "      <th>status</th>\n",
       "      <th>release_date</th>\n",
       "      <th>revenue</th>\n",
       "      <th>runtime</th>\n",
       "      <th>adult</th>\n",
       "      <th>backdrop_path</th>\n",
       "      <th>...</th>\n",
       "      <th>original_title</th>\n",
       "      <th>overview</th>\n",
       "      <th>popularity</th>\n",
       "      <th>poster_path</th>\n",
       "      <th>tagline</th>\n",
       "      <th>genres</th>\n",
       "      <th>production_companies</th>\n",
       "      <th>production_countries</th>\n",
       "      <th>spoken_languages</th>\n",
       "      <th>keywords</th>\n",
       "    </tr>\n",
       "  </thead>\n",
       "  <tbody>\n",
       "    <tr>\n",
       "      <th>12973</th>\n",
       "      <td>43434</td>\n",
       "      <td>Carlos</td>\n",
       "      <td>6.959</td>\n",
       "      <td>171</td>\n",
       "      <td>Released</td>\n",
       "      <td>2010-07-07</td>\n",
       "      <td>871279</td>\n",
       "      <td>339</td>\n",
       "      <td>False</td>\n",
       "      <td>/bYCj7U89sVREvaxFKpnk2kbnxnF.jpg</td>\n",
       "      <td>...</td>\n",
       "      <td>Carlos</td>\n",
       "      <td>The story of Venezuelan revolutionary, Ilich R...</td>\n",
       "      <td>8.009</td>\n",
       "      <td>/883l2CsEuNPqv8aCAOuOavxdLAy.jpg</td>\n",
       "      <td>The man who hijacked the world</td>\n",
       "      <td>Crime, Drama, Thriller, History</td>\n",
       "      <td>Films en Stock, Egoli Tossell Film, Canal+, AR...</td>\n",
       "      <td>Germany, France</td>\n",
       "      <td>French, German, English, Spanish, Arabic, Hung...</td>\n",
       "      <td>gun, car bomb, miniseries, terrorism, opec, ho...</td>\n",
       "    </tr>\n",
       "    <tr>\n",
       "      <th>62291</th>\n",
       "      <td>255615</td>\n",
       "      <td>River of Fundament</td>\n",
       "      <td>6.500</td>\n",
       "      <td>14</td>\n",
       "      <td>Released</td>\n",
       "      <td>2014-02-12</td>\n",
       "      <td>44840</td>\n",
       "      <td>310</td>\n",
       "      <td>False</td>\n",
       "      <td>/gZbnI9x7pszVmNc4z4SEKsFM0Iv.jpg</td>\n",
       "      <td>...</td>\n",
       "      <td>River of Fundament</td>\n",
       "      <td>Visionary artist Matthew Barney returns to cin...</td>\n",
       "      <td>4.739</td>\n",
       "      <td>/sMGevssYsHJG8omlL26rPZFWgRY.jpg</td>\n",
       "      <td>NaN</td>\n",
       "      <td>Drama, Fantasy, Horror</td>\n",
       "      <td>NaN</td>\n",
       "      <td>NaN</td>\n",
       "      <td>English, Portuguese</td>\n",
       "      <td>opera, gold, loss of loved one, pregnancy, ida...</td>\n",
       "    </tr>\n",
       "    <tr>\n",
       "      <th>187353</th>\n",
       "      <td>1309787</td>\n",
       "      <td>Big Gap</td>\n",
       "      <td>10.000</td>\n",
       "      <td>2</td>\n",
       "      <td>Released</td>\n",
       "      <td>2016-08-31</td>\n",
       "      <td>6</td>\n",
       "      <td>980</td>\n",
       "      <td>False</td>\n",
       "      <td>/znSYHaFeq4w2YWcDf0oml5LmgsO.jpg</td>\n",
       "      <td>...</td>\n",
       "      <td>Big Gap</td>\n",
       "      <td>big gap reptile joker taxi driver Lupe fiasco ...</td>\n",
       "      <td>1.400</td>\n",
       "      <td>/fthyBdjT3FFWkmmGhF9K9tbOp16.jpg</td>\n",
       "      <td>THE BIGGEST GAP EVER</td>\n",
       "      <td>Science Fiction, War</td>\n",
       "      <td>NaN</td>\n",
       "      <td>NaN</td>\n",
       "      <td>Albanian, Divehi, Dutch, Dzongkha, English</td>\n",
       "      <td>NaN</td>\n",
       "    </tr>\n",
       "    <tr>\n",
       "      <th>229449</th>\n",
       "      <td>1233925</td>\n",
       "      <td>The Bear</td>\n",
       "      <td>10.000</td>\n",
       "      <td>1</td>\n",
       "      <td>Released</td>\n",
       "      <td>2022-06-23</td>\n",
       "      <td>20000000</td>\n",
       "      <td>540</td>\n",
       "      <td>False</td>\n",
       "      <td>/jpoqiH1ZGyQcUZrzYlIPsnN2GCS.jpg</td>\n",
       "      <td>...</td>\n",
       "      <td>The Bear</td>\n",
       "      <td>A young chef from the fine dining world return...</td>\n",
       "      <td>0.600</td>\n",
       "      <td>/tLnYIbkIKhNbAKzhawKqcY9dmxk.jpg</td>\n",
       "      <td>The Bear</td>\n",
       "      <td>Comedy, Drama</td>\n",
       "      <td>FX Productions</td>\n",
       "      <td>United States of America</td>\n",
       "      <td>English</td>\n",
       "      <td>NaN</td>\n",
       "    </tr>\n",
       "    <tr>\n",
       "      <th>233639</th>\n",
       "      <td>1168032</td>\n",
       "      <td>One Copyright Strike to Rule Them All</td>\n",
       "      <td>10.000</td>\n",
       "      <td>1</td>\n",
       "      <td>Released</td>\n",
       "      <td>2023-03-31</td>\n",
       "      <td>100</td>\n",
       "      <td>409</td>\n",
       "      <td>False</td>\n",
       "      <td>/z3jrfiFNWpJ6lz4mmBxaukujZt0.jpg</td>\n",
       "      <td>...</td>\n",
       "      <td>One Copyright Strike to Rule Them All</td>\n",
       "      <td>An introspecitve deep dive into one mans trium...</td>\n",
       "      <td>0.600</td>\n",
       "      <td>/wnYf7evSqnp17e3STQkz9MsilCT.jpg</td>\n",
       "      <td>One Man, One Mission</td>\n",
       "      <td>Documentary</td>\n",
       "      <td>NaN</td>\n",
       "      <td>NaN</td>\n",
       "      <td>English</td>\n",
       "      <td>NaN</td>\n",
       "    </tr>\n",
       "    <tr>\n",
       "      <th>251260</th>\n",
       "      <td>1369012</td>\n",
       "      <td>Joker 3D</td>\n",
       "      <td>6.000</td>\n",
       "      <td>1</td>\n",
       "      <td>Released</td>\n",
       "      <td>NaN</td>\n",
       "      <td>100</td>\n",
       "      <td>420</td>\n",
       "      <td>False</td>\n",
       "      <td>NaN</td>\n",
       "      <td>...</td>\n",
       "      <td>Joker 3D</td>\n",
       "      <td>brought to life in an immersive 3D format. The...</td>\n",
       "      <td>0.600</td>\n",
       "      <td>/5ajHHEiNUrmq0LIqMPNP2pgIuhp.jpg</td>\n",
       "      <td>It's Jokering Time</td>\n",
       "      <td>Documentary</td>\n",
       "      <td>NaN</td>\n",
       "      <td>NaN</td>\n",
       "      <td>NaN</td>\n",
       "      <td>joker</td>\n",
       "    </tr>\n",
       "    <tr>\n",
       "      <th>257678</th>\n",
       "      <td>1305464</td>\n",
       "      <td>God of War Ragnarok</td>\n",
       "      <td>10.000</td>\n",
       "      <td>1</td>\n",
       "      <td>Released</td>\n",
       "      <td>2022-11-09</td>\n",
       "      <td>469000000</td>\n",
       "      <td>999</td>\n",
       "      <td>False</td>\n",
       "      <td>/nOV8dSwjGrgYXKZBVJm9rW829zT.jpg</td>\n",
       "      <td>...</td>\n",
       "      <td>God of War Ragnarok</td>\n",
       "      <td>Kratos, and his now teenage son, Atreus, are f...</td>\n",
       "      <td>1.400</td>\n",
       "      <td>/jiqC3ebPM3SnDJLWpVEV5OB5f0e.jpg</td>\n",
       "      <td>Open your heart.</td>\n",
       "      <td>Action, Adventure, Drama</td>\n",
       "      <td>Santa Monica Studio, Sony Interactive Entertai...</td>\n",
       "      <td>NaN</td>\n",
       "      <td>NaN</td>\n",
       "      <td>kratos, god of war, ragnarok</td>\n",
       "    </tr>\n",
       "    <tr>\n",
       "      <th>257680</th>\n",
       "      <td>1305448</td>\n",
       "      <td>God of War</td>\n",
       "      <td>10.000</td>\n",
       "      <td>1</td>\n",
       "      <td>Released</td>\n",
       "      <td>2018-04-20</td>\n",
       "      <td>135395253</td>\n",
       "      <td>999</td>\n",
       "      <td>False</td>\n",
       "      <td>/hMHywo0BDtuOeLeZWs0Ml3pjJ0R.jpg</td>\n",
       "      <td>...</td>\n",
       "      <td>God of War</td>\n",
       "      <td>Many years after defeating the Olympian gods, ...</td>\n",
       "      <td>1.400</td>\n",
       "      <td>/rBIoYuwsgn7dX7kJqaV6efsezBT.jpg</td>\n",
       "      <td>We are not our mistakes.</td>\n",
       "      <td>Adventure, Action, Drama</td>\n",
       "      <td>Santa Monica Studio, Sony Interactive Entertai...</td>\n",
       "      <td>NaN</td>\n",
       "      <td>NaN</td>\n",
       "      <td>kratos, god of war</td>\n",
       "    </tr>\n",
       "    <tr>\n",
       "      <th>257699</th>\n",
       "      <td>1305480</td>\n",
       "      <td>God of War</td>\n",
       "      <td>10.000</td>\n",
       "      <td>1</td>\n",
       "      <td>Released</td>\n",
       "      <td>2005-03-22</td>\n",
       "      <td>0</td>\n",
       "      <td>540</td>\n",
       "      <td>False</td>\n",
       "      <td>/dnrwRHsr5NBuEST92g8Lem5G6Dy.jpg</td>\n",
       "      <td>...</td>\n",
       "      <td>God of War</td>\n",
       "      <td>After 10 years of endless nightmares in servit...</td>\n",
       "      <td>0.931</td>\n",
       "      <td>/7Od86Xg4tZVyiVUga4MOnC7eTbM.jpg</td>\n",
       "      <td>\"Tell the God of War, I am his no longer\"</td>\n",
       "      <td>Action, Adventure, Fantasy</td>\n",
       "      <td>Santa Monica Studio, Sony Computer Entertainment</td>\n",
       "      <td>NaN</td>\n",
       "      <td>NaN</td>\n",
       "      <td>kratos, god of war</td>\n",
       "    </tr>\n",
       "    <tr>\n",
       "      <th>259958</th>\n",
       "      <td>1280118</td>\n",
       "      <td>OMORI</td>\n",
       "      <td>10.000</td>\n",
       "      <td>1</td>\n",
       "      <td>Released</td>\n",
       "      <td>2020-12-25</td>\n",
       "      <td>19</td>\n",
       "      <td>990</td>\n",
       "      <td>False</td>\n",
       "      <td>/42yZ1pGF4a0ZtfoaR40jcD1gbu3.jpg</td>\n",
       "      <td>...</td>\n",
       "      <td>OMORI</td>\n",
       "      <td>Explore a strange world full of colorful frien...</td>\n",
       "      <td>1.400</td>\n",
       "      <td>/wOO3julpsZTNBsVy0HaK3DQIQg.jpg</td>\n",
       "      <td>OMORI</td>\n",
       "      <td>Horror, Animation, Fantasy</td>\n",
       "      <td>OMOCAT</td>\n",
       "      <td>Japan</td>\n",
       "      <td>English</td>\n",
       "      <td>NaN</td>\n",
       "    </tr>\n",
       "    <tr>\n",
       "      <th>296883</th>\n",
       "      <td>787838</td>\n",
       "      <td>2019: A Cinematic Odyssey</td>\n",
       "      <td>10.000</td>\n",
       "      <td>1</td>\n",
       "      <td>Released</td>\n",
       "      <td>2019-09-28</td>\n",
       "      <td>100000</td>\n",
       "      <td>480</td>\n",
       "      <td>False</td>\n",
       "      <td>/17KYVwKOqlTiaYfTCntoBs0pZcp.jpg</td>\n",
       "      <td>...</td>\n",
       "      <td>2019: A Cinematic Odyssey</td>\n",
       "      <td>2019: A Cinematic Odyssey is an eight hour mus...</td>\n",
       "      <td>0.600</td>\n",
       "      <td>/1L4kc52eYY65kQ8oLydSZwlLV0k.jpg</td>\n",
       "      <td>Embark on the Cinematic Adventure of a Lifetime</td>\n",
       "      <td>Adventure</td>\n",
       "      <td>Sarah Conor Productions</td>\n",
       "      <td>NaN</td>\n",
       "      <td>English</td>\n",
       "      <td>musical</td>\n",
       "    </tr>\n",
       "  </tbody>\n",
       "</table>\n",
       "<p>11 rows × 24 columns</p>\n",
       "</div>"
      ]
     },
     "execution_count": 3,
     "metadata": {},
     "output_type": "execute_result"
    }
   ],
   "execution_count": 3
  },
  {
   "metadata": {
    "ExecuteTime": {
     "end_time": "2025-04-28T06:12:29.321191Z",
     "start_time": "2025-04-28T06:12:29.149144Z"
    }
   },
   "cell_type": "code",
   "source": "complete_df.describe()",
   "id": "a00a4af5e2471388",
   "outputs": [
    {
     "data": {
      "text/plain": [
       "                 id  vote_average    vote_count       revenue       runtime  \\\n",
       "count  1.214586e+06  1.214586e+06  1.214586e+06  1.214586e+06  1.214586e+06   \n",
       "mean   7.849756e+05  1.775837e+00  1.766151e+01  6.702136e+05  4.663847e+01   \n",
       "std    4.187445e+05  2.973841e+00  3.081552e+02  1.832724e+07  6.147384e+01   \n",
       "min    2.000000e+00  0.000000e+00  0.000000e+00 -1.200000e+01 -2.800000e+01   \n",
       "25%    4.343442e+05  0.000000e+00  0.000000e+00  0.000000e+00  0.000000e+00   \n",
       "50%    7.930475e+05  0.000000e+00  0.000000e+00  0.000000e+00  2.000000e+01   \n",
       "75%    1.160054e+06  4.167000e+00  1.000000e+00  0.000000e+00  8.800000e+01   \n",
       "max    1.471563e+06  1.000000e+01  3.449500e+04  5.000000e+09  1.440000e+04   \n",
       "\n",
       "             budget    popularity  \n",
       "count  1.214586e+06  1.214586e+06  \n",
       "mean   2.609782e+05  1.179048e+00  \n",
       "std    5.174002e+06  7.343680e+00  \n",
       "min    0.000000e+00  0.000000e+00  \n",
       "25%    0.000000e+00  6.000000e-01  \n",
       "50%    0.000000e+00  6.000000e-01  \n",
       "75%    0.000000e+00  8.540000e-01  \n",
       "max    1.000000e+09  2.994357e+03  "
      ],
      "text/html": [
       "<div>\n",
       "<style scoped>\n",
       "    .dataframe tbody tr th:only-of-type {\n",
       "        vertical-align: middle;\n",
       "    }\n",
       "\n",
       "    .dataframe tbody tr th {\n",
       "        vertical-align: top;\n",
       "    }\n",
       "\n",
       "    .dataframe thead th {\n",
       "        text-align: right;\n",
       "    }\n",
       "</style>\n",
       "<table border=\"1\" class=\"dataframe\">\n",
       "  <thead>\n",
       "    <tr style=\"text-align: right;\">\n",
       "      <th></th>\n",
       "      <th>id</th>\n",
       "      <th>vote_average</th>\n",
       "      <th>vote_count</th>\n",
       "      <th>revenue</th>\n",
       "      <th>runtime</th>\n",
       "      <th>budget</th>\n",
       "      <th>popularity</th>\n",
       "    </tr>\n",
       "  </thead>\n",
       "  <tbody>\n",
       "    <tr>\n",
       "      <th>count</th>\n",
       "      <td>1.214586e+06</td>\n",
       "      <td>1.214586e+06</td>\n",
       "      <td>1.214586e+06</td>\n",
       "      <td>1.214586e+06</td>\n",
       "      <td>1.214586e+06</td>\n",
       "      <td>1.214586e+06</td>\n",
       "      <td>1.214586e+06</td>\n",
       "    </tr>\n",
       "    <tr>\n",
       "      <th>mean</th>\n",
       "      <td>7.849756e+05</td>\n",
       "      <td>1.775837e+00</td>\n",
       "      <td>1.766151e+01</td>\n",
       "      <td>6.702136e+05</td>\n",
       "      <td>4.663847e+01</td>\n",
       "      <td>2.609782e+05</td>\n",
       "      <td>1.179048e+00</td>\n",
       "    </tr>\n",
       "    <tr>\n",
       "      <th>std</th>\n",
       "      <td>4.187445e+05</td>\n",
       "      <td>2.973841e+00</td>\n",
       "      <td>3.081552e+02</td>\n",
       "      <td>1.832724e+07</td>\n",
       "      <td>6.147384e+01</td>\n",
       "      <td>5.174002e+06</td>\n",
       "      <td>7.343680e+00</td>\n",
       "    </tr>\n",
       "    <tr>\n",
       "      <th>min</th>\n",
       "      <td>2.000000e+00</td>\n",
       "      <td>0.000000e+00</td>\n",
       "      <td>0.000000e+00</td>\n",
       "      <td>-1.200000e+01</td>\n",
       "      <td>-2.800000e+01</td>\n",
       "      <td>0.000000e+00</td>\n",
       "      <td>0.000000e+00</td>\n",
       "    </tr>\n",
       "    <tr>\n",
       "      <th>25%</th>\n",
       "      <td>4.343442e+05</td>\n",
       "      <td>0.000000e+00</td>\n",
       "      <td>0.000000e+00</td>\n",
       "      <td>0.000000e+00</td>\n",
       "      <td>0.000000e+00</td>\n",
       "      <td>0.000000e+00</td>\n",
       "      <td>6.000000e-01</td>\n",
       "    </tr>\n",
       "    <tr>\n",
       "      <th>50%</th>\n",
       "      <td>7.930475e+05</td>\n",
       "      <td>0.000000e+00</td>\n",
       "      <td>0.000000e+00</td>\n",
       "      <td>0.000000e+00</td>\n",
       "      <td>2.000000e+01</td>\n",
       "      <td>0.000000e+00</td>\n",
       "      <td>6.000000e-01</td>\n",
       "    </tr>\n",
       "    <tr>\n",
       "      <th>75%</th>\n",
       "      <td>1.160054e+06</td>\n",
       "      <td>4.167000e+00</td>\n",
       "      <td>1.000000e+00</td>\n",
       "      <td>0.000000e+00</td>\n",
       "      <td>8.800000e+01</td>\n",
       "      <td>0.000000e+00</td>\n",
       "      <td>8.540000e-01</td>\n",
       "    </tr>\n",
       "    <tr>\n",
       "      <th>max</th>\n",
       "      <td>1.471563e+06</td>\n",
       "      <td>1.000000e+01</td>\n",
       "      <td>3.449500e+04</td>\n",
       "      <td>5.000000e+09</td>\n",
       "      <td>1.440000e+04</td>\n",
       "      <td>1.000000e+09</td>\n",
       "      <td>2.994357e+03</td>\n",
       "    </tr>\n",
       "  </tbody>\n",
       "</table>\n",
       "</div>"
      ]
     },
     "execution_count": 4,
     "metadata": {},
     "output_type": "execute_result"
    }
   ],
   "execution_count": 4
  },
  {
   "metadata": {
    "ExecuteTime": {
     "end_time": "2025-04-28T06:12:29.325585Z",
     "start_time": "2025-04-28T06:12:29.322198Z"
    }
   },
   "cell_type": "code",
   "source": "list(complete_df.columns)",
   "id": "1d3593943a47eee2",
   "outputs": [
    {
     "data": {
      "text/plain": [
       "['id',\n",
       " 'title',\n",
       " 'vote_average',\n",
       " 'vote_count',\n",
       " 'status',\n",
       " 'release_date',\n",
       " 'revenue',\n",
       " 'runtime',\n",
       " 'adult',\n",
       " 'backdrop_path',\n",
       " 'budget',\n",
       " 'homepage',\n",
       " 'imdb_id',\n",
       " 'original_language',\n",
       " 'original_title',\n",
       " 'overview',\n",
       " 'popularity',\n",
       " 'poster_path',\n",
       " 'tagline',\n",
       " 'genres',\n",
       " 'production_companies',\n",
       " 'production_countries',\n",
       " 'spoken_languages',\n",
       " 'keywords']"
      ]
     },
     "execution_count": 5,
     "metadata": {},
     "output_type": "execute_result"
    }
   ],
   "execution_count": 5
  },
  {
   "metadata": {
    "ExecuteTime": {
     "end_time": "2025-04-28T06:12:29.825792Z",
     "start_time": "2025-04-28T06:12:29.325585Z"
    }
   },
   "cell_type": "code",
   "source": "complete_df.info()",
   "id": "2f5adafbc765982d",
   "outputs": [
    {
     "name": "stdout",
     "output_type": "stream",
     "text": [
      "<class 'pandas.core.frame.DataFrame'>\n",
      "RangeIndex: 1214586 entries, 0 to 1214585\n",
      "Data columns (total 24 columns):\n",
      " #   Column                Non-Null Count    Dtype  \n",
      "---  ------                --------------    -----  \n",
      " 0   id                    1214586 non-null  int64  \n",
      " 1   title                 1214573 non-null  object \n",
      " 2   vote_average          1214586 non-null  float64\n",
      " 3   vote_count            1214586 non-null  int64  \n",
      " 4   status                1214586 non-null  object \n",
      " 5   release_date          994018 non-null   object \n",
      " 6   revenue               1214586 non-null  int64  \n",
      " 7   runtime               1214586 non-null  int64  \n",
      " 8   adult                 1214586 non-null  bool   \n",
      " 9   backdrop_path         316246 non-null   object \n",
      " 10  budget                1214586 non-null  int64  \n",
      " 11  homepage              127574 non-null   object \n",
      " 12  imdb_id               620709 non-null   object \n",
      " 13  original_language     1214586 non-null  object \n",
      " 14  original_title        1214573 non-null  object \n",
      " 15  overview              958174 non-null   object \n",
      " 16  popularity            1214586 non-null  float64\n",
      " 17  poster_path           816616 non-null   object \n",
      " 18  tagline               170355 non-null   object \n",
      " 19  genres                712827 non-null   object \n",
      " 20  production_companies  539075 non-null   object \n",
      " 21  production_countries  660233 non-null   object \n",
      " 22  spoken_languages      681764 non-null   object \n",
      " 23  keywords              319492 non-null   object \n",
      "dtypes: bool(1), float64(2), int64(5), object(16)\n",
      "memory usage: 214.3+ MB\n"
     ]
    }
   ],
   "execution_count": 6
  },
  {
   "metadata": {},
   "cell_type": "markdown",
   "source": [
    "___\n",
    "# Cleaning"
   ],
   "id": "2a81227d7067f332"
  },
  {
   "metadata": {},
   "cell_type": "markdown",
   "source": "### General",
   "id": "299a0329166cb60f"
  },
  {
   "metadata": {
    "ExecuteTime": {
     "end_time": "2025-04-28T06:12:30.043115Z",
     "start_time": "2025-04-28T06:12:29.826302Z"
    }
   },
   "cell_type": "code",
   "source": [
    "# Convert 'adult' column to binary\n",
    "complete_df['adult'] = complete_df['adult'].map({False: 0, True: 1})\n",
    "# Convert release_date to datetime\n",
    "complete_df['release_date'] = pd.to_datetime(complete_df['release_date'], errors='coerce')"
   ],
   "id": "c92b40b3315bedf3",
   "outputs": [],
   "execution_count": 7
  },
  {
   "metadata": {
    "ExecuteTime": {
     "end_time": "2025-04-28T06:12:30.054388Z",
     "start_time": "2025-04-28T06:12:30.044119Z"
    }
   },
   "cell_type": "code",
   "source": "complete_df.head()",
   "id": "873c840793d2c90c",
   "outputs": [
    {
     "data": {
      "text/plain": [
       "       id            title  vote_average  vote_count    status release_date  \\\n",
       "0   27205        Inception         8.364       34495  Released   2010-07-15   \n",
       "1  157336     Interstellar         8.417       32571  Released   2014-11-05   \n",
       "2     155  The Dark Knight         8.512       30619  Released   2008-07-16   \n",
       "3   19995           Avatar         7.573       29815  Released   2009-12-15   \n",
       "4   24428     The Avengers         7.710       29166  Released   2012-04-25   \n",
       "\n",
       "      revenue  runtime  adult                     backdrop_path  ...  \\\n",
       "0   825532764      148      0  /8ZTVqvKDQ8emSGUEMjsS4yHAwrp.jpg  ...   \n",
       "1   701729206      169      0  /pbrkL804c8yAv3zBZR4QPEafpAR.jpg  ...   \n",
       "2  1004558444      152      0  /nMKdUUepR0i5zn0y1T4CsSB5chy.jpg  ...   \n",
       "3  2923706026      162      0  /vL5LR6WdxWPjLPFRLe133jXWsh5.jpg  ...   \n",
       "4  1518815515      143      0  /9BBTo63ANSmhC4e6r62OJFuK2GL.jpg  ...   \n",
       "\n",
       "    original_title                                           overview  \\\n",
       "0        Inception  Cobb, a skilled thief who commits corporate es...   \n",
       "1     Interstellar  The adventures of a group of explorers who mak...   \n",
       "2  The Dark Knight  Batman raises the stakes in his war on crime. ...   \n",
       "3           Avatar  In the 22nd century, a paraplegic Marine is di...   \n",
       "4     The Avengers  When an unexpected enemy emerges and threatens...   \n",
       "\n",
       "  popularity                       poster_path  \\\n",
       "0     83.952  /oYuLEt3zVCKq57qu2F8dT7NIa6f.jpg   \n",
       "1    140.241  /gEU2QniE6E77NI6lCU6MxlNBvIx.jpg   \n",
       "2    130.643  /qJ2tW6WMUDux911r6m7haRef0WH.jpg   \n",
       "3     79.932  /kyeqWdyUXW608qlYkRqosgbbJyK.jpg   \n",
       "4     98.082   /RYMX2wcKCBAr24UyPD7xwmjaTn.jpg   \n",
       "\n",
       "                                             tagline  \\\n",
       "0               Your mind is the scene of the crime.   \n",
       "1  Mankind was born on Earth. It was never meant ...   \n",
       "2                  Welcome to a world without rules.   \n",
       "3                        Enter the world of Pandora.   \n",
       "4                            Some assembly required.   \n",
       "\n",
       "                                        genres  \\\n",
       "0           Action, Science Fiction, Adventure   \n",
       "1            Adventure, Drama, Science Fiction   \n",
       "2               Drama, Action, Crime, Thriller   \n",
       "3  Action, Adventure, Fantasy, Science Fiction   \n",
       "4           Science Fiction, Action, Adventure   \n",
       "\n",
       "                                production_companies  \\\n",
       "0  Legendary Pictures, Syncopy, Warner Bros. Pict...   \n",
       "1  Legendary Pictures, Syncopy, Lynda Obst Produc...   \n",
       "2  DC Comics, Legendary Pictures, Syncopy, Isobel...   \n",
       "3  Dune Entertainment, Lightstorm Entertainment, ...   \n",
       "4                                     Marvel Studios   \n",
       "\n",
       "                       production_countries  \\\n",
       "0  United Kingdom, United States of America   \n",
       "1  United Kingdom, United States of America   \n",
       "2  United Kingdom, United States of America   \n",
       "3  United States of America, United Kingdom   \n",
       "4                  United States of America   \n",
       "\n",
       "                     spoken_languages  \\\n",
       "0  English, French, Japanese, Swahili   \n",
       "1                             English   \n",
       "2                   English, Mandarin   \n",
       "3                    English, Spanish   \n",
       "4             English, Hindi, Russian   \n",
       "\n",
       "                                            keywords  \n",
       "0  rescue, mission, dream, airplane, paris, franc...  \n",
       "1  rescue, future, spacecraft, race against time,...  \n",
       "2  joker, sadism, chaos, secret identity, crime f...  \n",
       "3  future, society, culture clash, space travel, ...  \n",
       "4  new york city, superhero, shield, based on com...  \n",
       "\n",
       "[5 rows x 24 columns]"
      ],
      "text/html": [
       "<div>\n",
       "<style scoped>\n",
       "    .dataframe tbody tr th:only-of-type {\n",
       "        vertical-align: middle;\n",
       "    }\n",
       "\n",
       "    .dataframe tbody tr th {\n",
       "        vertical-align: top;\n",
       "    }\n",
       "\n",
       "    .dataframe thead th {\n",
       "        text-align: right;\n",
       "    }\n",
       "</style>\n",
       "<table border=\"1\" class=\"dataframe\">\n",
       "  <thead>\n",
       "    <tr style=\"text-align: right;\">\n",
       "      <th></th>\n",
       "      <th>id</th>\n",
       "      <th>title</th>\n",
       "      <th>vote_average</th>\n",
       "      <th>vote_count</th>\n",
       "      <th>status</th>\n",
       "      <th>release_date</th>\n",
       "      <th>revenue</th>\n",
       "      <th>runtime</th>\n",
       "      <th>adult</th>\n",
       "      <th>backdrop_path</th>\n",
       "      <th>...</th>\n",
       "      <th>original_title</th>\n",
       "      <th>overview</th>\n",
       "      <th>popularity</th>\n",
       "      <th>poster_path</th>\n",
       "      <th>tagline</th>\n",
       "      <th>genres</th>\n",
       "      <th>production_companies</th>\n",
       "      <th>production_countries</th>\n",
       "      <th>spoken_languages</th>\n",
       "      <th>keywords</th>\n",
       "    </tr>\n",
       "  </thead>\n",
       "  <tbody>\n",
       "    <tr>\n",
       "      <th>0</th>\n",
       "      <td>27205</td>\n",
       "      <td>Inception</td>\n",
       "      <td>8.364</td>\n",
       "      <td>34495</td>\n",
       "      <td>Released</td>\n",
       "      <td>2010-07-15</td>\n",
       "      <td>825532764</td>\n",
       "      <td>148</td>\n",
       "      <td>0</td>\n",
       "      <td>/8ZTVqvKDQ8emSGUEMjsS4yHAwrp.jpg</td>\n",
       "      <td>...</td>\n",
       "      <td>Inception</td>\n",
       "      <td>Cobb, a skilled thief who commits corporate es...</td>\n",
       "      <td>83.952</td>\n",
       "      <td>/oYuLEt3zVCKq57qu2F8dT7NIa6f.jpg</td>\n",
       "      <td>Your mind is the scene of the crime.</td>\n",
       "      <td>Action, Science Fiction, Adventure</td>\n",
       "      <td>Legendary Pictures, Syncopy, Warner Bros. Pict...</td>\n",
       "      <td>United Kingdom, United States of America</td>\n",
       "      <td>English, French, Japanese, Swahili</td>\n",
       "      <td>rescue, mission, dream, airplane, paris, franc...</td>\n",
       "    </tr>\n",
       "    <tr>\n",
       "      <th>1</th>\n",
       "      <td>157336</td>\n",
       "      <td>Interstellar</td>\n",
       "      <td>8.417</td>\n",
       "      <td>32571</td>\n",
       "      <td>Released</td>\n",
       "      <td>2014-11-05</td>\n",
       "      <td>701729206</td>\n",
       "      <td>169</td>\n",
       "      <td>0</td>\n",
       "      <td>/pbrkL804c8yAv3zBZR4QPEafpAR.jpg</td>\n",
       "      <td>...</td>\n",
       "      <td>Interstellar</td>\n",
       "      <td>The adventures of a group of explorers who mak...</td>\n",
       "      <td>140.241</td>\n",
       "      <td>/gEU2QniE6E77NI6lCU6MxlNBvIx.jpg</td>\n",
       "      <td>Mankind was born on Earth. It was never meant ...</td>\n",
       "      <td>Adventure, Drama, Science Fiction</td>\n",
       "      <td>Legendary Pictures, Syncopy, Lynda Obst Produc...</td>\n",
       "      <td>United Kingdom, United States of America</td>\n",
       "      <td>English</td>\n",
       "      <td>rescue, future, spacecraft, race against time,...</td>\n",
       "    </tr>\n",
       "    <tr>\n",
       "      <th>2</th>\n",
       "      <td>155</td>\n",
       "      <td>The Dark Knight</td>\n",
       "      <td>8.512</td>\n",
       "      <td>30619</td>\n",
       "      <td>Released</td>\n",
       "      <td>2008-07-16</td>\n",
       "      <td>1004558444</td>\n",
       "      <td>152</td>\n",
       "      <td>0</td>\n",
       "      <td>/nMKdUUepR0i5zn0y1T4CsSB5chy.jpg</td>\n",
       "      <td>...</td>\n",
       "      <td>The Dark Knight</td>\n",
       "      <td>Batman raises the stakes in his war on crime. ...</td>\n",
       "      <td>130.643</td>\n",
       "      <td>/qJ2tW6WMUDux911r6m7haRef0WH.jpg</td>\n",
       "      <td>Welcome to a world without rules.</td>\n",
       "      <td>Drama, Action, Crime, Thriller</td>\n",
       "      <td>DC Comics, Legendary Pictures, Syncopy, Isobel...</td>\n",
       "      <td>United Kingdom, United States of America</td>\n",
       "      <td>English, Mandarin</td>\n",
       "      <td>joker, sadism, chaos, secret identity, crime f...</td>\n",
       "    </tr>\n",
       "    <tr>\n",
       "      <th>3</th>\n",
       "      <td>19995</td>\n",
       "      <td>Avatar</td>\n",
       "      <td>7.573</td>\n",
       "      <td>29815</td>\n",
       "      <td>Released</td>\n",
       "      <td>2009-12-15</td>\n",
       "      <td>2923706026</td>\n",
       "      <td>162</td>\n",
       "      <td>0</td>\n",
       "      <td>/vL5LR6WdxWPjLPFRLe133jXWsh5.jpg</td>\n",
       "      <td>...</td>\n",
       "      <td>Avatar</td>\n",
       "      <td>In the 22nd century, a paraplegic Marine is di...</td>\n",
       "      <td>79.932</td>\n",
       "      <td>/kyeqWdyUXW608qlYkRqosgbbJyK.jpg</td>\n",
       "      <td>Enter the world of Pandora.</td>\n",
       "      <td>Action, Adventure, Fantasy, Science Fiction</td>\n",
       "      <td>Dune Entertainment, Lightstorm Entertainment, ...</td>\n",
       "      <td>United States of America, United Kingdom</td>\n",
       "      <td>English, Spanish</td>\n",
       "      <td>future, society, culture clash, space travel, ...</td>\n",
       "    </tr>\n",
       "    <tr>\n",
       "      <th>4</th>\n",
       "      <td>24428</td>\n",
       "      <td>The Avengers</td>\n",
       "      <td>7.710</td>\n",
       "      <td>29166</td>\n",
       "      <td>Released</td>\n",
       "      <td>2012-04-25</td>\n",
       "      <td>1518815515</td>\n",
       "      <td>143</td>\n",
       "      <td>0</td>\n",
       "      <td>/9BBTo63ANSmhC4e6r62OJFuK2GL.jpg</td>\n",
       "      <td>...</td>\n",
       "      <td>The Avengers</td>\n",
       "      <td>When an unexpected enemy emerges and threatens...</td>\n",
       "      <td>98.082</td>\n",
       "      <td>/RYMX2wcKCBAr24UyPD7xwmjaTn.jpg</td>\n",
       "      <td>Some assembly required.</td>\n",
       "      <td>Science Fiction, Action, Adventure</td>\n",
       "      <td>Marvel Studios</td>\n",
       "      <td>United States of America</td>\n",
       "      <td>English, Hindi, Russian</td>\n",
       "      <td>new york city, superhero, shield, based on com...</td>\n",
       "    </tr>\n",
       "  </tbody>\n",
       "</table>\n",
       "<p>5 rows × 24 columns</p>\n",
       "</div>"
      ]
     },
     "execution_count": 8,
     "metadata": {},
     "output_type": "execute_result"
    }
   ],
   "execution_count": 8
  },
  {
   "metadata": {
    "ExecuteTime": {
     "end_time": "2025-04-28T06:12:30.512911Z",
     "start_time": "2025-04-28T06:12:30.055392Z"
    }
   },
   "cell_type": "code",
   "source": [
    "# Extract year from release_date\n",
    "complete_df['release_year'] = complete_df['release_date'].dt.year.fillna(0).astype(int)\n",
    "complete_df['release_quarter'] = complete_df['release_date'].dt.quarter.fillna(0).astype(int)\n",
    "\n",
    "def get_season(month):\n",
    "    if month in [12, 1, 2]:\n",
    "        return 'Winter'\n",
    "    elif month in [3, 4, 5]:\n",
    "        return 'Spring'\n",
    "    elif month in [6, 7, 8]:\n",
    "        return 'Summer'\n",
    "    elif month in [9, 10, 11]:\n",
    "        return 'Fall'\n",
    "complete_df['release_season'] = complete_df['release_date'].dt.month.apply(get_season)\n",
    "\n",
    "complete_df['release_month'] = complete_df['release_date'].dt.month.fillna(0).astype(int)"
   ],
   "id": "9ffc426fd83aab12",
   "outputs": [],
   "execution_count": 9
  },
  {
   "metadata": {},
   "cell_type": "markdown",
   "source": "### Hot encoding",
   "id": "ac085ae38bdc9f3c"
  },
  {
   "metadata": {
    "ExecuteTime": {
     "end_time": "2025-04-28T06:12:33.645026Z",
     "start_time": "2025-04-28T06:12:30.513918Z"
    }
   },
   "cell_type": "code",
   "source": [
    "# Split the genres, production companies, production countries, spoken languages and keywords into lists\n",
    "categorical_cols = ['genres', 'production_companies', 'production_countries', 'spoken_languages']\n",
    "for col in categorical_cols:\n",
    "    complete_df[col] = complete_df[col].str.split(', ') if complete_df[col].dtype == 'object' else complete_df[col]\n",
    "    # prep for mlb\n",
    "    complete_df[col] = complete_df[col].apply(lambda x: x if isinstance(x, list) else ([] if pd.isna(x) else [x]))"
   ],
   "id": "7403907916abd6a9",
   "outputs": [],
   "execution_count": 10
  },
  {
   "metadata": {
    "ExecuteTime": {
     "end_time": "2025-04-28T06:12:33.650030Z",
     "start_time": "2025-04-28T06:12:33.646032Z"
    }
   },
   "cell_type": "code",
   "source": [
    "def top_n_encode(df, column, n=5):\n",
    "    all_items = [item for sublist in df[column].dropna() for item in sublist if sublist]\n",
    "    # Get top n most common items\n",
    "    top_items = [item for item, count in Counter(all_items).most_common(n)]\n",
    "    \n",
    "    # Create dataframe for encoding\n",
    "    encoded_df = pd.DataFrame(index=df.index)\n",
    "    \n",
    "    # Encode each top item\n",
    "    for item in top_items:\n",
    "        encoded_df[f'{column}_{item}'] = df[column].apply(\n",
    "            lambda x: 1 if isinstance(x, list) and item in x else 0\n",
    "        )\n",
    "    \n",
    "    print(encoded_df.columns) # print the top n\n",
    "    \n",
    "    return encoded_df"
   ],
   "id": "462dc6c16e0d2cf4",
   "outputs": [],
   "execution_count": 11
  },
  {
   "metadata": {
    "ExecuteTime": {
     "end_time": "2025-04-28T06:12:39.656072Z",
     "start_time": "2025-04-28T06:12:33.651544Z"
    }
   },
   "cell_type": "code",
   "source": [
    "mlb = MultiLabelBinarizer()\n",
    "encoded_genres = pd.DataFrame(\n",
    "    mlb.fit_transform(complete_df['genres']),\n",
    "    columns=[f'genre_{genre}' for genre in mlb.classes_],\n",
    "    index=complete_df.index\n",
    ")\n",
    "other_cols = ['production_companies', 'production_countries', 'spoken_languages']\n",
    "encoded_dfs = [encoded_genres]\n",
    "\n",
    "for col in other_cols:\n",
    "    encoded_col = top_n_encode(complete_df, col, n=5)\n",
    "    encoded_dfs.append(encoded_col)\n",
    "\n",
    "# Combine all encoded dataframes with original dataframe\n",
    "result = pd.concat([complete_df] + encoded_dfs, axis=1)"
   ],
   "id": "3cbcde74d304e229",
   "outputs": [
    {
     "name": "stdout",
     "output_type": "stream",
     "text": [
      "Index(['production_companies_Warner Bros. Pictures',\n",
      "       'production_companies_BBC', 'production_companies_Evil Angel',\n",
      "       'production_companies_Columbia Pictures',\n",
      "       'production_companies_Metro-Goldwyn-Mayer'],\n",
      "      dtype='object')\n",
      "Index(['production_countries_United States of America',\n",
      "       'production_countries_France', 'production_countries_Japan',\n",
      "       'production_countries_Germany', 'production_countries_United Kingdom'],\n",
      "      dtype='object')\n",
      "Index(['spoken_languages_English', 'spoken_languages_French',\n",
      "       'spoken_languages_Spanish', 'spoken_languages_Japanese',\n",
      "       'spoken_languages_German'],\n",
      "      dtype='object')\n"
     ]
    }
   ],
   "execution_count": 12
  },
  {
   "metadata": {
    "ExecuteTime": {
     "end_time": "2025-04-28T06:12:40.336038Z",
     "start_time": "2025-04-28T06:12:39.657077Z"
    }
   },
   "cell_type": "code",
   "source": "complete_df = pd.concat([complete_df] + encoded_dfs, axis=1)",
   "id": "8e1b1d1db639958b",
   "outputs": [],
   "execution_count": 13
  },
  {
   "metadata": {},
   "cell_type": "markdown",
   "source": "### Dropping unnecessary columns",
   "id": "2a4e59ab523c0d66"
  },
  {
   "metadata": {
    "ExecuteTime": {
     "end_time": "2025-04-28T06:12:40.340752Z",
     "start_time": "2025-04-28T06:12:40.336543Z"
    }
   },
   "cell_type": "code",
   "source": "list(df.columns)",
   "id": "daf0e036d7f60905",
   "outputs": [
    {
     "data": {
      "text/plain": [
       "['id',\n",
       " 'title',\n",
       " 'vote_average',\n",
       " 'vote_count',\n",
       " 'status',\n",
       " 'release_date',\n",
       " 'revenue',\n",
       " 'runtime',\n",
       " 'adult',\n",
       " 'backdrop_path',\n",
       " 'budget',\n",
       " 'homepage',\n",
       " 'imdb_id',\n",
       " 'original_language',\n",
       " 'original_title',\n",
       " 'overview',\n",
       " 'popularity',\n",
       " 'poster_path',\n",
       " 'tagline',\n",
       " 'genres',\n",
       " 'production_companies',\n",
       " 'production_countries',\n",
       " 'spoken_languages',\n",
       " 'keywords']"
      ]
     },
     "execution_count": 14,
     "metadata": {},
     "output_type": "execute_result"
    }
   ],
   "execution_count": 14
  },
  {
   "metadata": {
    "ExecuteTime": {
     "end_time": "2025-04-28T06:12:40.561865Z",
     "start_time": "2025-04-28T06:12:40.341757Z"
    }
   },
   "cell_type": "code",
   "source": [
    "drop_cols = [\n",
    "    'id',\n",
    "    'backdrop_path',\n",
    "    'poster_path',\n",
    "    'homepage',\n",
    "    'imdb_id',\n",
    "    'tagline',\n",
    "]\n",
    "\n",
    "hot_encoded = ['production_companies', 'production_countries', 'spoken_languages', 'genres']\n",
    "\n",
    "complete_df.drop(columns=drop_cols+hot_encoded, inplace=True)"
   ],
   "id": "a663fa42366fddde",
   "outputs": [],
   "execution_count": 15
  },
  {
   "metadata": {
    "ExecuteTime": {
     "end_time": "2025-04-28T06:12:40.565827Z",
     "start_time": "2025-04-28T06:12:40.562870Z"
    }
   },
   "cell_type": "code",
   "source": "complete_df.columns = complete_df.columns.str.replace(' ', '_')",
   "id": "e752e06bcc642ae0",
   "outputs": [],
   "execution_count": 16
  },
  {
   "metadata": {},
   "cell_type": "markdown",
   "source": "### Save",
   "id": "9a67de5a508c55ef"
  },
  {
   "metadata": {
    "ExecuteTime": {
     "end_time": "2025-04-28T06:13:13.465408Z",
     "start_time": "2025-04-28T06:12:58.437563Z"
    }
   },
   "cell_type": "code",
   "source": [
    "complete_df.to_csv('output/cleaned_movie_complete.csv', index=False)\n",
    "complete_df.to_parquet('output/cleaned_movie_complete.parquet', index=False)"
   ],
   "id": "8e17b2e6e55ce28c",
   "outputs": [],
   "execution_count": 18
  },
  {
   "metadata": {},
   "cell_type": "markdown",
   "source": [
    "___\n",
    "# Splitting by Status"
   ],
   "id": "677b977afa803589"
  },
  {
   "metadata": {
    "ExecuteTime": {
     "end_time": "2025-04-28T06:13:13.896223Z",
     "start_time": "2025-04-28T06:13:13.466413Z"
    }
   },
   "cell_type": "code",
   "source": [
    "released_df = complete_df[complete_df['status']==\"Released\"]\n",
    "in_prod_df = complete_df[complete_df['status']==\"In Production\"]\n",
    "post_prod_df = complete_df[complete_df['status']==\"Post Production\"]\n",
    "planned_df = complete_df[complete_df['status']==\"Planned\"]\n",
    "rumored_df = complete_df[complete_df['status']==\"Rumored\"]\n",
    "cancelled_df = complete_df[complete_df['status']==\"Canceled\"]"
   ],
   "id": "81b4d0eb55535d1c",
   "outputs": [],
   "execution_count": 19
  },
  {
   "metadata": {},
   "cell_type": "markdown",
   "source": [
    "___\n",
    "# Working with released movies\n",
    "## like its gonna be our working dataset"
   ],
   "id": "8ae9fc5dc0cd0265"
  },
  {
   "metadata": {
    "ExecuteTime": {
     "end_time": "2025-04-28T06:13:13.919956Z",
     "start_time": "2025-04-28T06:13:13.896223Z"
    }
   },
   "cell_type": "code",
   "source": [
    "metric_cols = ['vote_average', 'vote_count', 'revenue', 'runtime', 'budget', 'popularity']\n",
    "df_nonzero = released_df[(released_df[metric_cols] != 0).all(axis=1)]"
   ],
   "id": "b375e129c5fd113",
   "outputs": [],
   "execution_count": 20
  },
  {
   "metadata": {
    "ExecuteTime": {
     "end_time": "2025-04-28T06:13:13.924205Z",
     "start_time": "2025-04-28T06:13:13.921224Z"
    }
   },
   "cell_type": "code",
   "source": "sample = df_nonzero.sample(50)",
   "id": "fa360d36d02792a2",
   "outputs": [],
   "execution_count": 21
  },
  {
   "metadata": {
    "ExecuteTime": {
     "end_time": "2025-04-28T06:13:14.062923Z",
     "start_time": "2025-04-28T06:13:13.925212Z"
    }
   },
   "cell_type": "code",
   "source": "df_nonzero.to_csv(\"output/cleaned_movie_released_nonzero.csv\", index=False)",
   "id": "6ca5e0295e54737c",
   "outputs": [],
   "execution_count": 22
  },
  {
   "metadata": {
    "ExecuteTime": {
     "end_time": "2025-04-28T06:13:14.068441Z",
     "start_time": "2025-04-28T06:13:14.062923Z"
    }
   },
   "cell_type": "code",
   "source": "sample.to_csv(\"output/cleaned_movie_released_sample.csv\")",
   "id": "d8276aebdc55d638",
   "outputs": [],
   "execution_count": 23
  },
  {
   "metadata": {},
   "cell_type": "markdown",
   "source": [
    "___\n",
    "# Testing stuff here"
   ],
   "id": "99b3f64c72396996"
  },
  {
   "metadata": {
    "ExecuteTime": {
     "end_time": "2025-04-08T07:54:19.584204Z",
     "start_time": "2025-04-08T07:54:17.682013Z"
    }
   },
   "cell_type": "code",
   "source": "from ydata_profiling import ProfileReport",
   "id": "48783b44a97a0c4b",
   "outputs": [
    {
     "data": {
      "text/plain": [
       "<IPython.core.display.HTML object>"
      ],
      "text/html": [
       "\n",
       "            <div>\n",
       "                <ins><a href=\"https://ydata.ai/register\">Upgrade to ydata-sdk</a></ins>\n",
       "                <p>\n",
       "                    Improve your data and profiling with ydata-sdk, featuring data quality scoring, redundancy detection, outlier identification, text validation, and synthetic data generation.\n",
       "                </p>\n",
       "            </div>\n",
       "            "
      ]
     },
     "metadata": {},
     "output_type": "display_data"
    }
   ],
   "execution_count": 29
  },
  {
   "metadata": {},
   "cell_type": "code",
   "outputs": [],
   "execution_count": null,
   "source": "code.ipynb",
   "id": "d8e3a3ac6344414c"
  },
  {
   "metadata": {
    "ExecuteTime": {
     "end_time": "2025-04-07T13:28:38.592587Z",
     "start_time": "2025-04-07T13:28:38.213609Z"
    }
   },
   "cell_type": "code",
   "source": "profile = ProfileReport(df, title=\"Profiling Report\")",
   "id": "e83b7d4ef1e6b0d0",
   "outputs": [],
   "execution_count": 7
  },
  {
   "metadata": {
    "ExecuteTime": {
     "end_time": "2025-04-07T13:28:51.444485Z",
     "start_time": "2025-04-07T13:28:38.593593Z"
    }
   },
   "cell_type": "code",
   "source": "profile.to_file(\"report.html\")",
   "id": "58ca306a4c143b8e",
   "outputs": [
    {
     "data": {
      "text/plain": [
       "Summarize dataset:   0%|          | 0/5 [00:00<?, ?it/s]"
      ],
      "application/vnd.jupyter.widget-view+json": {
       "version_major": 2,
       "version_minor": 0,
       "model_id": "feaf5add88d644e485055b2561a8bb34"
      }
     },
     "metadata": {},
     "output_type": "display_data"
    },
    {
     "name": "stderr",
     "output_type": "stream",
     "text": [
      "\n",
      "  0%|          | 0/24 [00:00<?, ?it/s]\u001B[A\n",
      "  8%|▊         | 2/24 [00:00<00:03,  6.44it/s]\u001B[A\n",
      " 12%|█▎        | 3/24 [00:00<00:03,  5.48it/s]\u001B[A\n",
      " 17%|█▋        | 4/24 [00:00<00:03,  5.19it/s]\u001B[A\n",
      " 21%|██        | 5/24 [00:00<00:03,  5.10it/s]\u001B[A\n",
      " 54%|█████▍    | 13/24 [00:01<00:00, 18.43it/s]\u001B[A\n",
      "100%|██████████| 24/24 [00:01<00:00, 18.90it/s]\u001B[A\n"
     ]
    },
    {
     "data": {
      "text/plain": [
       "Generate report structure:   0%|          | 0/1 [00:00<?, ?it/s]"
      ],
      "application/vnd.jupyter.widget-view+json": {
       "version_major": 2,
       "version_minor": 0,
       "model_id": "8013e58d39f44236b3182ff7b1c60c34"
      }
     },
     "metadata": {},
     "output_type": "display_data"
    },
    {
     "data": {
      "text/plain": [
       "Render HTML:   0%|          | 0/1 [00:00<?, ?it/s]"
      ],
      "application/vnd.jupyter.widget-view+json": {
       "version_major": 2,
       "version_minor": 0,
       "model_id": "d1f062cbcef8463bb9dde4fe4ef2c6b2"
      }
     },
     "metadata": {},
     "output_type": "display_data"
    },
    {
     "data": {
      "text/plain": [
       "Export report to file:   0%|          | 0/1 [00:00<?, ?it/s]"
      ],
      "application/vnd.jupyter.widget-view+json": {
       "version_major": 2,
       "version_minor": 0,
       "model_id": "de30d007579641388db775e65cd713b7"
      }
     },
     "metadata": {},
     "output_type": "display_data"
    }
   ],
   "execution_count": 8
  },
  {
   "metadata": {
    "ExecuteTime": {
     "end_time": "2025-04-07T13:28:00.869633Z",
     "start_time": "2025-04-07T13:28:00.856928Z"
    }
   },
   "cell_type": "code",
   "source": "df.info()",
   "id": "3502148df8ed0c49",
   "outputs": [
    {
     "name": "stdout",
     "output_type": "stream",
     "text": [
      "<class 'pandas.core.frame.DataFrame'>\n",
      "RangeIndex: 10459 entries, 0 to 10458\n",
      "Data columns (total 24 columns):\n",
      " #   Column                Non-Null Count  Dtype  \n",
      "---  ------                --------------  -----  \n",
      " 0   id                    10459 non-null  int64  \n",
      " 1   title                 10459 non-null  object \n",
      " 2   vote_average          10459 non-null  float64\n",
      " 3   vote_count            10459 non-null  int64  \n",
      " 4   status                10459 non-null  object \n",
      " 5   release_date          10338 non-null  object \n",
      " 6   revenue               10459 non-null  int64  \n",
      " 7   runtime               10459 non-null  int64  \n",
      " 8   adult                 10459 non-null  bool   \n",
      " 9   backdrop_path         9702 non-null   object \n",
      " 10  budget                10459 non-null  int64  \n",
      " 11  homepage              3631 non-null   object \n",
      " 12  imdb_id               9935 non-null   object \n",
      " 13  original_language     10459 non-null  object \n",
      " 14  original_title        10459 non-null  object \n",
      " 15  overview              10424 non-null  object \n",
      " 16  popularity            10459 non-null  float64\n",
      " 17  poster_path           10306 non-null  object \n",
      " 18  tagline               8369 non-null   object \n",
      " 19  genres                10333 non-null  object \n",
      " 20  production_companies  9891 non-null   object \n",
      " 21  production_countries  10009 non-null  object \n",
      " 22  spoken_languages      10149 non-null  object \n",
      " 23  keywords              9255 non-null   object \n",
      "dtypes: bool(1), float64(2), int64(5), object(16)\n",
      "memory usage: 1.8+ MB\n"
     ]
    }
   ],
   "execution_count": 4
  },
  {
   "metadata": {},
   "cell_type": "code",
   "source": "df[\"title\"] = df[\"title\"].astype(\"string\")\n",
   "id": "48290564291d64ba",
   "outputs": [],
   "execution_count": null
  },
  {
   "metadata": {},
   "cell_type": "code",
   "source": "df.info()",
   "id": "35e755368fd06829",
   "outputs": [],
   "execution_count": null
  },
  {
   "metadata": {},
   "cell_type": "code",
   "source": [
    "plt.figure(figsize=(10, 6))\n",
    "sns.histplot(df['popularity'], kde=True)\n",
    "# plt.title('Distribution of Percentage Values')\n",
    "plt.xlabel('Popularity')\n",
    "plt.ylabel('Count')\n",
    "plt.show()"
   ],
   "id": "7cb8559876dd7ff3",
   "outputs": [],
   "execution_count": null
  },
  {
   "metadata": {},
   "cell_type": "code",
   "source": [
    "Q1 = df['popularity'].quantile(0.25)\n",
    "Q3 = df['popularity'].quantile(0.75)\n",
    "IQR = Q3 - Q1\n",
    "\n",
    "lower_bound = Q1 - 1.5 * IQR\n",
    "upper_bound = Q3 + 1.5 * IQR\n",
    "\n",
    "# Remove outliers\n",
    "df = df[(df['popularity'] >= lower_bound) & (df['popularity'] <= upper_bound)]\n"
   ],
   "id": "de7f6ca45731ab01",
   "outputs": [],
   "execution_count": null
  },
  {
   "metadata": {},
   "cell_type": "code",
   "source": [
    "plt.figure(figsize=(10, 6))\n",
    "sns.histplot(df['popularity'], kde=True)\n",
    "# plt.title('Distribution of Percentage Values')\n",
    "plt.xlabel('Popularity')\n",
    "plt.ylabel('Count')\n",
    "plt.show()"
   ],
   "id": "8431256e2544b2f5",
   "outputs": [],
   "execution_count": null
  },
  {
   "metadata": {},
   "cell_type": "code",
   "source": [
    "plt.figure(figsize=(10, 6))\n",
    "sns.histplot(df['revenue'], kde=True)\n",
    "# plt.title('Distribution of Percentage Values')\n",
    "plt.xlabel('Revenue')\n",
    "plt.ylabel('Count')\n",
    "plt.show()"
   ],
   "id": "77ce12efbfc63b44",
   "outputs": [],
   "execution_count": null
  },
  {
   "metadata": {},
   "cell_type": "code",
   "source": [
    "# Calculate Q1 and Q3\n",
    "Q1 = df['revenue'].quantile(0.25)\n",
    "Q3 = df['revenue'].quantile(0.75)\n",
    "IQR = Q3 - Q1\n",
    "\n",
    "# Define bounds for outliers\n",
    "lower_bound = Q1 - 1.5 * IQR\n",
    "upper_bound = Q3 + 1.5 * IQR\n",
    "\n",
    "# Remove outliers\n",
    "df = df[(df['revenue'] >= lower_bound) & (df['revenue'] <= upper_bound)]\n"
   ],
   "id": "43a93fdec557c809",
   "outputs": [],
   "execution_count": null
  },
  {
   "metadata": {},
   "cell_type": "code",
   "source": [
    "plt.figure(figsize=(10, 6))\n",
    "sns.histplot(df['revenue'], kde=True)\n",
    "# plt.title('Distribution of Percentage Values')\n",
    "plt.xlabel('Revenue')\n",
    "plt.ylabel('Count')\n",
    "plt.show()"
   ],
   "id": "fe9bfe59ad81361c",
   "outputs": [],
   "execution_count": null
  },
  {
   "metadata": {},
   "cell_type": "code",
   "source": [
    "plt.figure(figsize=(10, 6))\n",
    "sns.histplot(df['budget'], kde=True)\n",
    "# plt.title('Distribution of Percentage Values')\n",
    "plt.xlabel('Budget')\n",
    "plt.ylabel('Count')\n",
    "plt.show()"
   ],
   "id": "7949eedceefbeb0e",
   "outputs": [],
   "execution_count": null
  },
  {
   "metadata": {},
   "cell_type": "code",
   "source": [
    "# Calculate Q1 and Q3\n",
    "Q1 = df['budget'].quantile(0.25)\n",
    "Q3 = df['budget'].quantile(0.75)\n",
    "IQR = Q3 - Q1\n",
    "\n",
    "# Define bounds for outliers\n",
    "lower_bound = Q1 - 1.5 * IQR\n",
    "upper_bound = Q3 + 1.5 * IQR\n",
    "\n",
    "# Remove outliers\n",
    "df = df[(df['budget'] >= lower_bound) & (df['budget'] <= upper_bound)]\n"
   ],
   "id": "cf5da7fe8db9f6a6",
   "outputs": [],
   "execution_count": null
  },
  {
   "metadata": {},
   "cell_type": "code",
   "source": [
    "plt.figure(figsize=(10, 6))\n",
    "sns.histplot(df['budget'], kde=True)\n",
    "# plt.title('Distribution of Percentage Values')\n",
    "plt.xlabel('Budget')\n",
    "plt.ylabel('Count')\n",
    "plt.show()"
   ],
   "id": "27efe214c513baaf",
   "outputs": [],
   "execution_count": null
  },
  {
   "metadata": {},
   "cell_type": "code",
   "source": "df",
   "id": "67fa108137762be2",
   "outputs": [],
   "execution_count": null
  },
  {
   "metadata": {
    "ExecuteTime": {
     "end_time": "2025-04-11T08:45:39.198294Z",
     "start_time": "2025-04-11T08:45:38.896561Z"
    }
   },
   "cell_type": "code",
   "source": [
    "import requests\n",
    "import json\n",
    "API_KEY = ''\n",
    "BASE_URL = 'https://api.themoviedb.org/3'\n",
    "\n",
    "# test scrape (Deprecated)\n",
    "def get_movie_details(api_key, movie_id):\n",
    "    if not api_key or api_key == 'YOUR_API_KEY':\n",
    "        print(\"Error: Please replace 'YOUR_API_KEY' with your actual TMDB API key.\")\n",
    "        return None\n",
    "\n",
    "    details_url = f\"{BASE_URL}/movie/{movie_id}?api_key={api_key}&append_to_response=keywords\"\n",
    "\n",
    "    try:\n",
    "        response = requests.get(details_url)\n",
    "        response.raise_for_status()\n",
    "\n",
    "        data = response.json()\n",
    "\n",
    "        movie_details = {\n",
    "            'id': data.get('id'),\n",
    "            'title': data.get('title'),\n",
    "            'vote_average': data.get('vote_average'),\n",
    "            'vote_count': data.get('vote_count'),\n",
    "            'status': data.get('status'),\n",
    "            'release_date': data.get('release_date'),\n",
    "            'revenue': data.get('revenue'),\n",
    "            'runtime': data.get('runtime'),\n",
    "            'adult': data.get('adult'),\n",
    "            'backdrop_path': data.get('backdrop_path'),\n",
    "            'budget': data.get('budget'),\n",
    "            'homepage': data.get('homepage'),\n",
    "            'imdb_id': data.get('imdb_id'),\n",
    "            'original_language': data.get('original_language'),\n",
    "            'original_title': data.get('original_title'),\n",
    "            'overview': data.get('overview'),\n",
    "            'popularity': data.get('popularity'),\n",
    "            'poster_path': data.get('poster_path'),\n",
    "            'tagline': data.get('tagline'),\n",
    "            # Extract names from list of dictionaries for these fields\n",
    "            'genres': [genre['name'] for genre in data.get('genres', [])],\n",
    "            'production_companies': [company['name'] for company in data.get('production_companies', [])],\n",
    "            # Extract English names for countries and languages\n",
    "            'production_countries': [country['name'] for country in data.get('production_countries', [])],\n",
    "            'spoken_languages': [lang['english_name'] for lang in data.get('spoken_languages', [])],\n",
    "            # Keywords are nested under the 'keywords' key from append_to_response\n",
    "            'keywords': [keyword['name'] for keyword in data.get('keywords', {}).get('keywords', [])]\n",
    "        }\n",
    "\n",
    "        return movie_details\n",
    "\n",
    "    except requests.exceptions.RequestException as e:\n",
    "        print(f\"Error fetching data from TMDB API: {e}\")\n",
    "        if response.status_code == 401:\n",
    "            print(\"Check if your API key is correct and active.\")\n",
    "        elif response.status_code == 404:\n",
    "             print(f\"Movie with ID {movie_id} not found.\")\n",
    "        return None\n",
    "    except json.JSONDecodeError:\n",
    "        print(\"Error decoding JSON response from TMDB API.\")\n",
    "        return None\n",
    "    except Exception as e:\n",
    "        print(f\"An unexpected error occurred: {e}\")\n",
    "        return None"
   ],
   "id": "f9c0628e8961fab4",
   "outputs": [],
   "execution_count": 9
  },
  {
   "metadata": {
    "ExecuteTime": {
     "end_time": "2025-04-11T08:46:37.042408Z",
     "start_time": "2025-04-11T08:46:36.752791Z"
    }
   },
   "cell_type": "code",
   "source": [
    "\n",
    "movie_id_to_fetch = 270419\n",
    "print(f\"Fetching details for movie ID: {movie_id_to_fetch}...\")\n",
    "\n",
    "details = get_movie_details(API_KEY, movie_id_to_fetch)\n",
    "\n",
    "if details:\n",
    "    print(\"\\nSuccessfully fetched movie details:\")\n",
    "    # Pretty print the dictionary\n",
    "    print(json.dumps(details, indent=4))\n",
    "else:\n",
    "    print(\"\\nFailed to fetch movie details.\")\n"
   ],
   "id": "41db2352126f3534",
   "outputs": [
    {
     "name": "stdout",
     "output_type": "stream",
     "text": [
      "Fetching details for movie ID: 270419...\n",
      "Error fetching data from TMDB API: 404 Client Error: Not Found for url: https://api.themoviedb.org/3/movie/270419?api_key=e34aec7ef5d9997c2a3d8188672c548d&append_to_response=keywords\n",
      "Movie with ID 270419 not found.\n",
      "\n",
      "Failed to fetch movie details.\n"
     ]
    }
   ],
   "execution_count": 11
  },
  {
   "metadata": {},
   "cell_type": "code",
   "outputs": [],
   "execution_count": null,
   "source": "",
   "id": "4959fd4ee4c5a15d"
  }
 ],
 "metadata": {
  "kernelspec": {
   "display_name": "Python 3",
   "language": "python",
   "name": "python3"
  },
  "language_info": {
   "codemirror_mode": {
    "name": "ipython",
    "version": 2
   },
   "file_extension": ".py",
   "mimetype": "text/x-python",
   "name": "python",
   "nbconvert_exporter": "python",
   "pygments_lexer": "ipython2",
   "version": "2.7.6"
  }
 },
 "nbformat": 4,
 "nbformat_minor": 5
}
